{
  "cells": [
    {
      "cell_type": "markdown",
      "metadata": {
        "id": "view-in-github",
        "colab_type": "text"
      },
      "source": [
        "<a href=\"https://colab.research.google.com/github/tutumomo/AnyText-colab/blob/main/AnyText_colab.ipynb\" target=\"_parent\"><img src=\"https://colab.research.google.com/assets/colab-badge.svg\" alt=\"Open In Colab\"/></a>"
      ]
    },
    {
      "cell_type": "markdown",
      "source": [
        "# 來源：\n",
        "- https://github.com/tyxsspa/AnyText\n",
        "- https://github.com/tutumomo/AnyText-colab\n",
        "\n",
        "本地安裝未成功，colab 成功了"
      ],
      "metadata": {
        "id": "9pfr6v-fMBLd"
      }
    },
    {
      "cell_type": "code",
      "execution_count": null,
      "metadata": {
        "id": "VjYy0F2gZIPR"
      },
      "outputs": [],
      "source": [
        "# %cd /content\n",
        "# !git clone -b dev https://github.com/camenduru/AnyText\n",
        "# %cd /content/AnyText\n",
        "\n",
        "# !wget https://dl.dafont.com/dl/?f=horison -O /content/AnyText/horison.zip\n",
        "# !unzip /content/AnyText/horison.zip\n",
        "# !mv /content/AnyText/Horison.ttf ./font/Horison.ttf\n",
        "\n",
        "%cd /content\n",
        "!git clone -b dev https://github.com/camenduru/studio_anytext-ms\n",
        "%cd /content/studio_anytext-ms\n",
        "\n",
        "!pip install -q modelscope omegaconf pytorch-lightning sentencepiece gradio==3.50.2 open-clip-torch sacremoses subword_nmt\n",
        "!pip install -q https://download.pytorch.org/whl/cu121/xformers-0.0.22.post7-cp310-cp310-manylinux2014_x86_64.whl\n",
        "\n",
        "# !python inference.py\n",
        "# !python demo.py\n",
        "\n",
        "!python app.py"
      ]
    }
  ],
  "metadata": {
    "accelerator": "GPU",
    "colab": {
      "gpuType": "T4",
      "provenance": [],
      "include_colab_link": true
    },
    "kernelspec": {
      "display_name": "Python 3",
      "name": "python3"
    },
    "language_info": {
      "name": "python"
    }
  },
  "nbformat": 4,
  "nbformat_minor": 0
}